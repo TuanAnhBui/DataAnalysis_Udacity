{
 "cells": [
  {
   "cell_type": "code",
   "execution_count": 7,
   "metadata": {},
   "outputs": [],
   "source": [
    "import pandas as pd\n",
    "import xml.etree.ElementTree as ET"
   ]
  },
  {
   "cell_type": "code",
   "execution_count": 2,
   "metadata": {},
   "outputs": [],
   "source": [
    "df = pd.read_csv('ManU')"
   ]
  },
  {
   "cell_type": "code",
   "execution_count": 3,
   "metadata": {},
   "outputs": [
    {
     "name": "stdout",
     "output_type": "stream",
     "text": [
      "<class 'pandas.core.frame.DataFrame'>\n",
      "RangeIndex: 304 entries, 0 to 303\n",
      "Columns: 115 entries, id to BSA\n",
      "dtypes: float64(33), int64(72), object(10)\n",
      "memory usage: 273.2+ KB\n"
     ]
    }
   ],
   "source": [
    "df.info()\n"
   ]
  },
  {
   "cell_type": "code",
   "execution_count": 63,
   "metadata": {},
   "outputs": [],
   "source": [
    "MU_id = 10261"
   ]
  },
  {
   "cell_type": "code",
   "execution_count": 73,
   "metadata": {
    "scrolled": true
   },
   "outputs": [
    {
     "data": {
      "text/html": [
       "<div>\n",
       "<style scoped>\n",
       "    .dataframe tbody tr th:only-of-type {\n",
       "        vertical-align: middle;\n",
       "    }\n",
       "\n",
       "    .dataframe tbody tr th {\n",
       "        vertical-align: top;\n",
       "    }\n",
       "\n",
       "    .dataframe thead th {\n",
       "        text-align: right;\n",
       "    }\n",
       "</style>\n",
       "<table border=\"1\" class=\"dataframe\">\n",
       "  <thead>\n",
       "    <tr style=\"text-align: right;\">\n",
       "      <th></th>\n",
       "      <th>id</th>\n",
       "      <th>country_id</th>\n",
       "      <th>league_id</th>\n",
       "      <th>season</th>\n",
       "      <th>stage</th>\n",
       "      <th>date</th>\n",
       "      <th>match_api_id</th>\n",
       "      <th>home_team_api_id</th>\n",
       "      <th>away_team_api_id</th>\n",
       "      <th>home_team_goal</th>\n",
       "      <th>...</th>\n",
       "      <th>SJA</th>\n",
       "      <th>VCH</th>\n",
       "      <th>VCD</th>\n",
       "      <th>VCA</th>\n",
       "      <th>GBH</th>\n",
       "      <th>GBD</th>\n",
       "      <th>GBA</th>\n",
       "      <th>BSH</th>\n",
       "      <th>BSD</th>\n",
       "      <th>BSA</th>\n",
       "    </tr>\n",
       "  </thead>\n",
       "  <tbody>\n",
       "    <tr>\n",
       "      <th>0</th>\n",
       "      <td>1729</td>\n",
       "      <td>1729</td>\n",
       "      <td>1729</td>\n",
       "      <td>2008/2009</td>\n",
       "      <td>1</td>\n",
       "      <td>2008-08-17 00:00:00</td>\n",
       "      <td>489042</td>\n",
       "      <td>10260</td>\n",
       "      <td>10261</td>\n",
       "      <td>1</td>\n",
       "      <td>...</td>\n",
       "      <td>10.00</td>\n",
       "      <td>1.28</td>\n",
       "      <td>5.5</td>\n",
       "      <td>12.00</td>\n",
       "      <td>1.30</td>\n",
       "      <td>4.75</td>\n",
       "      <td>10.00</td>\n",
       "      <td>1.29</td>\n",
       "      <td>4.5</td>\n",
       "      <td>11.00</td>\n",
       "    </tr>\n",
       "    <tr>\n",
       "      <th>1</th>\n",
       "      <td>1739</td>\n",
       "      <td>1729</td>\n",
       "      <td>1729</td>\n",
       "      <td>2008/2009</td>\n",
       "      <td>10</td>\n",
       "      <td>2008-10-29 00:00:00</td>\n",
       "      <td>489132</td>\n",
       "      <td>10260</td>\n",
       "      <td>8654</td>\n",
       "      <td>2</td>\n",
       "      <td>...</td>\n",
       "      <td>17.00</td>\n",
       "      <td>1.20</td>\n",
       "      <td>6.1</td>\n",
       "      <td>19.00</td>\n",
       "      <td>1.20</td>\n",
       "      <td>6.00</td>\n",
       "      <td>13.00</td>\n",
       "      <td>1.22</td>\n",
       "      <td>5.5</td>\n",
       "      <td>12.00</td>\n",
       "    </tr>\n",
       "    <tr>\n",
       "      <th>2</th>\n",
       "      <td>1749</td>\n",
       "      <td>1729</td>\n",
       "      <td>1729</td>\n",
       "      <td>2008/2009</td>\n",
       "      <td>11</td>\n",
       "      <td>2008-11-01 00:00:00</td>\n",
       "      <td>489142</td>\n",
       "      <td>10260</td>\n",
       "      <td>8667</td>\n",
       "      <td>4</td>\n",
       "      <td>...</td>\n",
       "      <td>19.00</td>\n",
       "      <td>1.17</td>\n",
       "      <td>7.0</td>\n",
       "      <td>19.00</td>\n",
       "      <td>1.18</td>\n",
       "      <td>6.00</td>\n",
       "      <td>17.00</td>\n",
       "      <td>1.17</td>\n",
       "      <td>6.5</td>\n",
       "      <td>13.00</td>\n",
       "    </tr>\n",
       "    <tr>\n",
       "      <th>3</th>\n",
       "      <td>1759</td>\n",
       "      <td>1729</td>\n",
       "      <td>1729</td>\n",
       "      <td>2008/2009</td>\n",
       "      <td>12</td>\n",
       "      <td>2008-11-08 00:00:00</td>\n",
       "      <td>489152</td>\n",
       "      <td>9825</td>\n",
       "      <td>10260</td>\n",
       "      <td>2</td>\n",
       "      <td>...</td>\n",
       "      <td>2.38</td>\n",
       "      <td>3.25</td>\n",
       "      <td>3.2</td>\n",
       "      <td>2.35</td>\n",
       "      <td>3.00</td>\n",
       "      <td>3.20</td>\n",
       "      <td>2.35</td>\n",
       "      <td>3.30</td>\n",
       "      <td>3.2</td>\n",
       "      <td>2.25</td>\n",
       "    </tr>\n",
       "    <tr>\n",
       "      <th>4</th>\n",
       "      <td>1769</td>\n",
       "      <td>1729</td>\n",
       "      <td>1729</td>\n",
       "      <td>2008/2009</td>\n",
       "      <td>13</td>\n",
       "      <td>2008-11-15 00:00:00</td>\n",
       "      <td>489162</td>\n",
       "      <td>10260</td>\n",
       "      <td>10194</td>\n",
       "      <td>5</td>\n",
       "      <td>...</td>\n",
       "      <td>19.00</td>\n",
       "      <td>1.14</td>\n",
       "      <td>6.5</td>\n",
       "      <td>13.00</td>\n",
       "      <td>1.15</td>\n",
       "      <td>7.50</td>\n",
       "      <td>16.00</td>\n",
       "      <td>1.14</td>\n",
       "      <td>6.5</td>\n",
       "      <td>17.00</td>\n",
       "    </tr>\n",
       "  </tbody>\n",
       "</table>\n",
       "<p>5 rows × 115 columns</p>\n",
       "</div>"
      ],
      "text/plain": [
       "     id  country_id  league_id     season  stage                 date  \\\n",
       "0  1729        1729       1729  2008/2009      1  2008-08-17 00:00:00   \n",
       "1  1739        1729       1729  2008/2009     10  2008-10-29 00:00:00   \n",
       "2  1749        1729       1729  2008/2009     11  2008-11-01 00:00:00   \n",
       "3  1759        1729       1729  2008/2009     12  2008-11-08 00:00:00   \n",
       "4  1769        1729       1729  2008/2009     13  2008-11-15 00:00:00   \n",
       "\n",
       "   match_api_id  home_team_api_id  away_team_api_id  home_team_goal  ...    \\\n",
       "0        489042             10260             10261               1  ...     \n",
       "1        489132             10260              8654               2  ...     \n",
       "2        489142             10260              8667               4  ...     \n",
       "3        489152              9825             10260               2  ...     \n",
       "4        489162             10260             10194               5  ...     \n",
       "\n",
       "     SJA   VCH  VCD    VCA   GBH   GBD    GBA   BSH  BSD    BSA  \n",
       "0  10.00  1.28  5.5  12.00  1.30  4.75  10.00  1.29  4.5  11.00  \n",
       "1  17.00  1.20  6.1  19.00  1.20  6.00  13.00  1.22  5.5  12.00  \n",
       "2  19.00  1.17  7.0  19.00  1.18  6.00  17.00  1.17  6.5  13.00  \n",
       "3   2.38  3.25  3.2   2.35  3.00  3.20   2.35  3.30  3.2   2.25  \n",
       "4  19.00  1.14  6.5  13.00  1.15  7.50  16.00  1.14  6.5  17.00  \n",
       "\n",
       "[5 rows x 115 columns]"
      ]
     },
     "execution_count": 73,
     "metadata": {},
     "output_type": "execute_result"
    }
   ],
   "source": [
    "df.head()"
   ]
  },
  {
   "cell_type": "code",
   "execution_count": 11,
   "metadata": {},
   "outputs": [],
   "source": [
    "goal = df.iloc[0]['goal']"
   ]
  },
  {
   "cell_type": "code",
   "execution_count": 12,
   "metadata": {},
   "outputs": [],
   "source": [
    "root = ET.XML(goal)"
   ]
  },
  {
   "cell_type": "code",
   "execution_count": 16,
   "metadata": {},
   "outputs": [
    {
     "data": {
      "text/plain": [
       "['goal',\n",
       " 'value',\n",
       " 'comment',\n",
       " 'stats',\n",
       " 'goals',\n",
       " 'shoton',\n",
       " 'event_incident_typefk',\n",
       " 'elapsed',\n",
       " 'player2',\n",
       " 'subtype',\n",
       " 'player1',\n",
       " 'sortorder',\n",
       " 'team',\n",
       " 'id',\n",
       " 'n',\n",
       " 'type',\n",
       " 'goal_type',\n",
       " 'value',\n",
       " 'comment',\n",
       " 'stats',\n",
       " 'goals',\n",
       " 'shoton',\n",
       " 'event_incident_typefk',\n",
       " 'elapsed',\n",
       " 'player2',\n",
       " 'subtype',\n",
       " 'player1',\n",
       " 'sortorder',\n",
       " 'team',\n",
       " 'id',\n",
       " 'n',\n",
       " 'type',\n",
       " 'goal_type']"
      ]
     },
     "execution_count": 16,
     "metadata": {},
     "output_type": "execute_result"
    }
   ],
   "source": [
    "[elem.tag for elem in root.iter()]"
   ]
  },
  {
   "cell_type": "code",
   "execution_count": 20,
   "metadata": {},
   "outputs": [
    {
     "name": "stdout",
     "output_type": "stream",
     "text": [
      "{}\n",
      "{}\n"
     ]
    }
   ],
   "source": [
    "for child in root.iter('elapsed'):\n",
    "    print(child.attrib)"
   ]
  },
  {
   "cell_type": "code",
   "execution_count": 49,
   "metadata": {},
   "outputs": [
    {
     "data": {
      "text/plain": [
       "'22'"
      ]
     },
     "execution_count": 49,
     "metadata": {},
     "output_type": "execute_result"
    }
   ],
   "source": [
    "root.getchildren()[0][3].text"
   ]
  },
  {
   "cell_type": "code",
   "execution_count": 58,
   "metadata": {},
   "outputs": [
    {
     "data": {
      "text/plain": [
       "'10261'"
      ]
     },
     "execution_count": 58,
     "metadata": {},
     "output_type": "execute_result"
    }
   ],
   "source": [
    "root.getchildren()[0][8].text"
   ]
  },
  {
   "cell_type": "code",
   "execution_count": 54,
   "metadata": {},
   "outputs": [
    {
     "data": {
      "text/plain": [
       "['n',\n",
       " None,\n",
       " '406',\n",
       " '22',\n",
       " '38807',\n",
       " 'header',\n",
       " '37799',\n",
       " '5',\n",
       " '10261',\n",
       " '378998',\n",
       " '295',\n",
       " 'goal',\n",
       " 'n']"
      ]
     },
     "execution_count": 54,
     "metadata": {},
     "output_type": "execute_result"
    }
   ],
   "source": [
    "[i.text for i in root.getchildren()[0]]"
   ]
  },
  {
   "cell_type": "code",
   "execution_count": 56,
   "metadata": {},
   "outputs": [
    {
     "data": {
      "text/plain": [
       "['n',\n",
       " None,\n",
       " '393',\n",
       " '24',\n",
       " '24154',\n",
       " 'shot',\n",
       " '24148',\n",
       " '4',\n",
       " '10260',\n",
       " '379019',\n",
       " '298',\n",
       " 'goal',\n",
       " 'n']"
      ]
     },
     "execution_count": 56,
     "metadata": {},
     "output_type": "execute_result"
    }
   ],
   "source": [
    "[i.text for i in root.getchildren()[1]]"
   ]
  },
  {
   "cell_type": "code",
   "execution_count": 62,
   "metadata": {},
   "outputs": [
    {
     "data": {
      "text/plain": [
       "2"
      ]
     },
     "execution_count": 62,
     "metadata": {},
     "output_type": "execute_result"
    }
   ],
   "source": [
    "len(root.getchildren())"
   ]
  },
  {
   "cell_type": "code",
   "execution_count": 70,
   "metadata": {},
   "outputs": [],
   "source": [
    "def get_goals(xml):\n",
    "    root = ET.XML(xml)\n",
    "    goal_for = []\n",
    "    goal_against = []\n",
    "    for goal in root.getchildren():\n",
    "        if int(goal[8].text) == MU_id:\n",
    "            goal_for.append(int(goal[3].text))\n",
    "        else:\n",
    "            goal_against.append(int(goal[3].text))\n",
    "    return [goal_for,goal_against]"
   ]
  },
  {
   "cell_type": "code",
   "execution_count": 71,
   "metadata": {},
   "outputs": [
    {
     "data": {
      "text/plain": [
       "[[22], [24]]"
      ]
     },
     "execution_count": 71,
     "metadata": {},
     "output_type": "execute_result"
    }
   ],
   "source": [
    "get_goals(goal)"
   ]
  },
  {
   "cell_type": "code",
   "execution_count": 123,
   "metadata": {},
   "outputs": [
    {
     "data": {
      "text/plain": [
       "'47'"
      ]
     },
     "execution_count": 123,
     "metadata": {},
     "output_type": "execute_result"
    }
   ],
   "source": [
    "list(root.getchildren()[-1].iter('homepos'))[-1].text"
   ]
  },
  {
   "cell_type": "code",
   "execution_count": 125,
   "metadata": {},
   "outputs": [
    {
     "name": "stdout",
     "output_type": "stream",
     "text": [
      "n\n",
      "None\n",
      "393\n",
      "None\n",
      "62\n",
      "164676\n",
      "shot\n",
      "30829\n",
      "2\n",
      "10260\n",
      "4910518\n",
      "497\n",
      "goal\n",
      "n\n"
     ]
    }
   ],
   "source": [
    "p = df.iloc[303]['goal']\n",
    "root = ET.XML(p)\n",
    "for pos in root.getchildren()[-1]:\n",
    "    print(pos.text)"
   ]
  },
  {
   "cell_type": "code",
   "execution_count": 120,
   "metadata": {},
   "outputs": [
    {
     "name": "stdout",
     "output_type": "stream",
     "text": [
      "<_elementtree._element_iterator object at 0x7f563d2f7b48>\n"
     ]
    }
   ],
   "source": [
    "print(root.getchildren()[-1].iter('homepos'))"
   ]
  },
  {
   "cell_type": "code",
   "execution_count": 89,
   "metadata": {},
   "outputs": [
    {
     "data": {
      "text/plain": [
       "['51', '352', '89', 'possession', '1', '49', '51', '180', 'special', '468350']"
      ]
     },
     "execution_count": 89,
     "metadata": {},
     "output_type": "execute_result"
    }
   ],
   "source": []
  },
  {
   "cell_type": "code",
   "execution_count": 106,
   "metadata": {},
   "outputs": [
    {
     "name": "stdout",
     "output_type": "stream",
     "text": [
      "47\n",
      "None\n",
      "352\n",
      "69\n",
      "possession\n",
      "4\n",
      "53\n",
      "47\n",
      "561\n",
      "special\n",
      "4910721\n"
     ]
    }
   ],
   "source": [
    "for p in root.getchildren()[2]:\n",
    "    print(p.text)"
   ]
  },
  {
   "cell_type": "code",
   "execution_count": 124,
   "metadata": {},
   "outputs": [
    {
     "data": {
      "text/plain": [
       "'47'"
      ]
     },
     "execution_count": 124,
     "metadata": {},
     "output_type": "execute_result"
    }
   ],
   "source": [
    "list(root.iter('homepos'))[-1].text\n",
    "   "
   ]
  },
  {
   "cell_type": "code",
   "execution_count": 100,
   "metadata": {},
   "outputs": [
    {
     "ename": "TypeError",
     "evalue": "object of type '_elementtree._element_iterator' has no len()",
     "output_type": "error",
     "traceback": [
      "\u001b[0;31m---------------------------------------------------------------------------\u001b[0m",
      "\u001b[0;31mTypeError\u001b[0m                                 Traceback (most recent call last)",
      "\u001b[0;32m<ipython-input-100-8d5d70743364>\u001b[0m in \u001b[0;36m<module>\u001b[0;34m()\u001b[0m\n\u001b[0;32m----> 1\u001b[0;31m \u001b[0mlen\u001b[0m\u001b[0;34m(\u001b[0m\u001b[0mroot\u001b[0m\u001b[0;34m.\u001b[0m\u001b[0miter\u001b[0m\u001b[0;34m(\u001b[0m\u001b[0;34m'homepos'\u001b[0m\u001b[0;34m)\u001b[0m\u001b[0;34m)\u001b[0m\u001b[0;34m\u001b[0m\u001b[0;34m\u001b[0m\u001b[0m\n\u001b[0m",
      "\u001b[0;31mTypeError\u001b[0m: object of type '_elementtree._element_iterator' has no len()"
     ]
    }
   ],
   "source": [
    "root.iter('homepos')"
   ]
  },
  {
   "cell_type": "code",
   "execution_count": 126,
   "metadata": {},
   "outputs": [
    {
     "data": {
      "text/plain": [
       "'<goal><value><comment>n</comment><stats><goals>1</goals><shoton>1</shoton></stats><event_incident_typefk>393</event_incident_typefk><coordinates><value>31</value><value>62</value></coordinates><elapsed>18</elapsed><player2>165823</player2><subtype>shot</subtype><player1>46893</player1><sortorder>6</sortorder><team>10260</team><id>4909078</id><n>153</n><type>goal</type><goal_type>n</goal_type></value><value><comment>n</comment><stats><goals>1</goals><shoton>1</shoton></stats><event_incident_typefk>406</event_incident_typefk><coordinates><value>22</value><value>63</value></coordinates><elapsed>22</elapsed><player2>161035</player2><subtype>header</subtype><player1>164676</player1><sortorder>1</sortorder><team>10260</team><id>4909146</id><n>158</n><type>goal</type><goal_type>n</goal_type></value><value><comment>n</comment><stats><goals>1</goals><shoton>1</shoton></stats><event_incident_typefk>393</event_incident_typefk><coordinates><value>17</value><value>62</value></coordinates><elapsed>62</elapsed><player2>164676</player2><subtype>shot</subtype><player1>30829</player1><sortorder>2</sortorder><team>10260</team><id>4910518</id><n>497</n><type>goal</type><goal_type>n</goal_type></value></goal>'"
      ]
     },
     "execution_count": 126,
     "metadata": {},
     "output_type": "execute_result"
    }
   ],
   "source": [
    "df.iloc[303]['goal']"
   ]
  },
  {
   "cell_type": "code",
   "execution_count": 127,
   "metadata": {},
   "outputs": [
    {
     "ename": "TypeError",
     "evalue": "int() argument must be a string, a bytes-like object or a number, not 'NoneType'",
     "output_type": "error",
     "traceback": [
      "\u001b[0;31m---------------------------------------------------------------------------\u001b[0m",
      "\u001b[0;31mTypeError\u001b[0m                                 Traceback (most recent call last)",
      "\u001b[0;32m<ipython-input-127-b871d4bbeaaa>\u001b[0m in \u001b[0;36m<module>\u001b[0;34m()\u001b[0m\n\u001b[0;32m----> 1\u001b[0;31m \u001b[0mget_goals\u001b[0m\u001b[0;34m(\u001b[0m\u001b[0mp\u001b[0m\u001b[0;34m)\u001b[0m\u001b[0;34m\u001b[0m\u001b[0;34m\u001b[0m\u001b[0m\n\u001b[0m",
      "\u001b[0;32m<ipython-input-70-9a08d7056153>\u001b[0m in \u001b[0;36mget_goals\u001b[0;34m(xml)\u001b[0m\n\u001b[1;32m      7\u001b[0m             \u001b[0mgoal_for\u001b[0m\u001b[0;34m.\u001b[0m\u001b[0mappend\u001b[0m\u001b[0;34m(\u001b[0m\u001b[0mint\u001b[0m\u001b[0;34m(\u001b[0m\u001b[0mgoal\u001b[0m\u001b[0;34m[\u001b[0m\u001b[0;36m3\u001b[0m\u001b[0;34m]\u001b[0m\u001b[0;34m.\u001b[0m\u001b[0mtext\u001b[0m\u001b[0;34m)\u001b[0m\u001b[0;34m)\u001b[0m\u001b[0;34m\u001b[0m\u001b[0;34m\u001b[0m\u001b[0m\n\u001b[1;32m      8\u001b[0m         \u001b[0;32melse\u001b[0m\u001b[0;34m:\u001b[0m\u001b[0;34m\u001b[0m\u001b[0;34m\u001b[0m\u001b[0m\n\u001b[0;32m----> 9\u001b[0;31m             \u001b[0mgoal_against\u001b[0m\u001b[0;34m.\u001b[0m\u001b[0mappend\u001b[0m\u001b[0;34m(\u001b[0m\u001b[0mint\u001b[0m\u001b[0;34m(\u001b[0m\u001b[0mgoal\u001b[0m\u001b[0;34m[\u001b[0m\u001b[0;36m3\u001b[0m\u001b[0;34m]\u001b[0m\u001b[0;34m.\u001b[0m\u001b[0mtext\u001b[0m\u001b[0;34m)\u001b[0m\u001b[0;34m)\u001b[0m\u001b[0;34m\u001b[0m\u001b[0;34m\u001b[0m\u001b[0m\n\u001b[0m\u001b[1;32m     10\u001b[0m     \u001b[0;32mreturn\u001b[0m \u001b[0;34m[\u001b[0m\u001b[0mgoal_for\u001b[0m\u001b[0;34m,\u001b[0m\u001b[0mgoal_against\u001b[0m\u001b[0;34m]\u001b[0m\u001b[0;34m\u001b[0m\u001b[0;34m\u001b[0m\u001b[0m\n",
      "\u001b[0;31mTypeError\u001b[0m: int() argument must be a string, a bytes-like object or a number, not 'NoneType'"
     ]
    }
   ],
   "source": [
    "get_goals(p)"
   ]
  },
  {
   "cell_type": "code",
   "execution_count": 144,
   "metadata": {},
   "outputs": [
    {
     "name": "stdout",
     "output_type": "stream",
     "text": [
      "<Element 'comment' at 0x7f560e0f28b8>\n",
      "<Element 'stats' at 0x7f560e0f2ef8>\n",
      "<Element 'event_incident_typefk' at 0x7f560e0f2db8>\n",
      "<Element 'coordinates' at 0x7f560e0f2458>\n",
      "<Element 'elapsed' at 0x7f560e15e958>\n",
      "<Element 'player2' at 0x7f560e15e688>\n",
      "<Element 'subtype' at 0x7f560e15ee08>\n",
      "<Element 'player1' at 0x7f560e15e098>\n",
      "<Element 'sortorder' at 0x7f560e15e0e8>\n",
      "<Element 'team' at 0x7f560e15e278>\n",
      "<Element 'id' at 0x7f560e15e1d8>\n",
      "<Element 'n' at 0x7f560e15e4f8>\n",
      "<Element 'type' at 0x7f560e15e318>\n",
      "<Element 'goal_type' at 0x7f560e15ed68>\n"
     ]
    }
   ],
   "source": [
    "for child in root.getchildren()[0]:\n",
    "    print(child)"
   ]
  },
  {
   "cell_type": "code",
   "execution_count": 130,
   "metadata": {},
   "outputs": [],
   "source": [
    "m = root.getchildren()[0]"
   ]
  },
  {
   "cell_type": "code",
   "execution_count": 155,
   "metadata": {},
   "outputs": [
    {
     "data": {
      "text/plain": [
       "[('n', 'comment'),\n",
       " (None, 'stats'),\n",
       " ('393', 'event_incident_typefk'),\n",
       " (None, 'coordinates'),\n",
       " ('18', 'elapsed'),\n",
       " ('165823', 'player2'),\n",
       " ('shot', 'subtype'),\n",
       " ('46893', 'player1'),\n",
       " ('6', 'sortorder'),\n",
       " ('10260', 'team'),\n",
       " ('4909078', 'id'),\n",
       " ('153', 'n'),\n",
       " ('goal', 'type'),\n",
       " ('n', 'goal_type')]"
      ]
     },
     "execution_count": 155,
     "metadata": {},
     "output_type": "execute_result"
    }
   ],
   "source": [
    "[(i.text,i.tag) for i in m]"
   ]
  },
  {
   "cell_type": "code",
   "execution_count": 145,
   "metadata": {},
   "outputs": [
    {
     "ename": "NameError",
     "evalue": "name 'Element' is not defined",
     "output_type": "error",
     "traceback": [
      "\u001b[0;31m---------------------------------------------------------------------------\u001b[0m",
      "\u001b[0;31mNameError\u001b[0m                                 Traceback (most recent call last)",
      "\u001b[0;32m<ipython-input-145-71c9d54f2e1d>\u001b[0m in \u001b[0;36m<module>\u001b[0;34m()\u001b[0m\n\u001b[0;32m----> 1\u001b[0;31m \u001b[0mElement\u001b[0m\u001b[0;34m(\u001b[0m\u001b[0mm\u001b[0m\u001b[0;34m)\u001b[0m\u001b[0;34m\u001b[0m\u001b[0;34m\u001b[0m\u001b[0m\n\u001b[0m",
      "\u001b[0;31mNameError\u001b[0m: name 'Element' is not defined"
     ]
    }
   ],
   "source": [
    "Element(m)"
   ]
  },
  {
   "cell_type": "code",
   "execution_count": 160,
   "metadata": {},
   "outputs": [
    {
     "data": {
      "text/plain": [
       "False"
      ]
     },
     "execution_count": 160,
     "metadata": {},
     "output_type": "execute_result"
    }
   ],
   "source": [
    "5 in range(3,5)"
   ]
  },
  {
   "cell_type": "code",
   "execution_count": 141,
   "metadata": {},
   "outputs": [
    {
     "data": {
      "text/plain": [
       "{}"
      ]
     },
     "execution_count": 141,
     "metadata": {},
     "output_type": "execute_result"
    }
   ],
   "source": [
    "root.attrib"
   ]
  },
  {
   "cell_type": "code",
   "execution_count": 142,
   "metadata": {},
   "outputs": [
    {
     "data": {
      "text/plain": [
       "False"
      ]
     },
     "execution_count": 142,
     "metadata": {},
     "output_type": "execute_result"
    }
   ],
   "source": [
    "'goal_type' in root.attrib"
   ]
  },
  {
   "cell_type": "code",
   "execution_count": null,
   "metadata": {},
   "outputs": [],
   "source": []
  }
 ],
 "metadata": {
  "kernelspec": {
   "display_name": "Python 3",
   "language": "python",
   "name": "python3"
  },
  "language_info": {
   "codemirror_mode": {
    "name": "ipython",
    "version": 3
   },
   "file_extension": ".py",
   "mimetype": "text/x-python",
   "name": "python",
   "nbconvert_exporter": "python",
   "pygments_lexer": "ipython3",
   "version": "3.6.10"
  }
 },
 "nbformat": 4,
 "nbformat_minor": 2
}
