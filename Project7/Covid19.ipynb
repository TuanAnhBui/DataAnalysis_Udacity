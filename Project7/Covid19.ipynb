{
 "cells": [
  {
   "cell_type": "markdown",
   "metadata": {},
   "source": [
    "# Covid19 Exploratory Analysis\n",
    "## by Tuan Bui\n",
    "\n",
    "## Preliminary Wrangling\n",
    "\n",
    "- The main dataset for the 2019 Novel Coronavirus collected and maintained by [Our World in Data](https://ourworldindata.org/coronavirus). It is updated daily and includes data on confirmed cases, deaths, and testing, as well as other variables of potential interest. The dataset is downloaded from https://github.com/owid/covid-19-data/tree/master/public/data\n",
    "- Dataset contains the number of nurses per 1000 people can be download from the link https://data.worldbank.org/indicator/SH.MED.NUMW.P3?view=chart\n",
    "- Dataset contains information about Covid19 and GDP per capita can be downloaded from https://ourworldindata.org/grapher/total-confirmed-cases-of-covid-19-per-million-people-vs-gdp-per-capita\n",
    "- Dataset contains information about GDP growth can be downloaded from the link https://data.worldbank.org/indicator/NY.GDP.MKTP.KD.ZG\n"
   ]
  },
  {
   "cell_type": "code",
   "execution_count": 1,
   "metadata": {},
   "outputs": [],
   "source": [
    "# import all packages and set plots to be embedded inline\n",
    "import numpy as np\n",
    "import pandas as pd\n",
    "import matplotlib.pyplot as plt\n",
    "import seaborn as sb\n",
    "import os\n",
    "import glob\n",
    "from os import path\n",
    "\n",
    "%matplotlib inline"
   ]
  },
  {
   "cell_type": "code",
   "execution_count": 2,
   "metadata": {},
   "outputs": [],
   "source": [
    "if not path.exists(\"covid19.csv\"):\n",
    "    folder = \"csse_covid_19_data/csse_covid_19_daily_reports/\"\n",
    "    df = pd.DataFrame()\n",
    "    features = ['Province_State',\n",
    "     'Country_Region',\n",
    "     'Last_Update',\n",
    "     'Confirmed',\n",
    "     'Deaths',\n",
    "     'Recovered',\n",
    "     'FIPS',\n",
    "     'Admin2',\n",
    "     'Latitude',\n",
    "     'Longitude',\n",
    "     'Active',\n",
    "     'Combined_Key']\n",
    "    duplicated_names = {'Bahamas, The':'Bahamas',\n",
    "                   'Mainland China':'China',\n",
    "                   'Czechia':'Czech Republic', \n",
    "                   'Dominican Republic':'Dominica',\n",
    "                   'Gambia, The':'Gambia',\n",
    "                   'Hong Kong SAR':'Hong Kong',\n",
    "                   'Iran (Islamic Republic of)':'Iran',\n",
    "                   'Korea, South':'South Korea',\n",
    "                    'Republic of Korea':'South Korea',\n",
    "                   'Republic of Ireland':'Ireland',\n",
    "                   'Macau SAR': 'Macao', \n",
    "                    'Macao SAR':'Macao',\n",
    "                        'Macau':'Macao',\n",
    "                    'Republic of Moldova':'Moldova',\n",
    "                    'Republic of the Congo':'Congo',\n",
    "                    'Congo (Brazzaville)':'Congo',\n",
    "                    'Congo (Kinshasa)':'Congo',\n",
    "                    'Russian Federation':'Russia',\n",
    "                    'St. Martin':'Saint Martin',\n",
    "                    'The Bahamas':'Bahamas',\n",
    "                    'The Gambia':'Gambia',\n",
    "                    'Taiwan*':'Taiwan',\n",
    "                    'United Kingdom':'UK',\n",
    "                    'Viet Nam':'Vietnam'\n",
    "                       }\n",
    "    count = 0\n",
    "    for one_day in sorted(glob.glob(folder+'*.csv')):\n",
    "        one_day_df = pd.read_csv(str(one_day))\n",
    "        cols = one_day_df.columns\n",
    "        for col in cols:\n",
    "            if col.find(\"Province/State\")>=0:\n",
    "                one_day_df.rename(columns = {col:\"Province_State\"},inplace=True)\n",
    "            elif col.find(\"Country/Region\")>=0:\n",
    "                one_day_df.rename(columns = {col:\"Country_Region\"},inplace=True)\n",
    "            elif col.find(\"Last Update\")>=0:\n",
    "                one_day_df.rename(columns = {col:\"Last_Update\"},inplace=True)\n",
    "            elif col.find(\"Lat\")>=0:\n",
    "                one_day_df.rename(columns = {col:\"Latitude\"},inplace=True)\n",
    "            elif col.find(\"Long\")>=0:\n",
    "                one_day_df.rename(columns = {col:\"Longitude\"},inplace=True)       \n",
    "        for feature in features:\n",
    "            if not feature in one_day_df.columns:\n",
    "                one_day_df[feature] = np.NaN\n",
    "    #    one_day_df.Province_State.fillna(\"\",inplace=True)\n",
    "        one_day_df['Country_Region'] = one_day_df['Country_Region'].replace(to_replace = duplicated_names)\n",
    "        one_day_df['Province'] = one_day_df.apply(lambda x: x.Country_Region+'/'+x.Province_State if not pd.isnull(x.Province_State) else x.Country_Region,axis=1)\n",
    "\n",
    "        one_day_df.Last_Update = pd.to_datetime(one_day_df.Last_Update,dayfirst=False).dt.date\n",
    "        one_day_df = one_day_df.groupby(['Last_Update','Country_Region','Province']).agg({'Latitude':'mean','Longitude':'mean',\n",
    "                                                 'Confirmed':'sum','Deaths':'sum','Recovered':'sum',\n",
    "                                                  'Active':'sum'}).reset_index()\n",
    "        df = pd.concat([df,one_day_df], axis=0, ignore_index=True,sort=False)\n",
    "\n",
    "    df.set_index('Province',inplace=True)\n",
    "    df = df[~(df.Latitude==0)]\n",
    "\n",
    "    lat_lng = df.groupby('Province').agg({'Latitude':'max','Longitude':'max'}).reset_index()\n",
    "    lat_lng.set_index('Province',inplace=True)\n",
    "    df.update(lat_lng)\n",
    "    df.reset_index(inplace=True)\n",
    "    df.dropna(inplace=True)\n",
    "\n",
    "    change_names = {'Korea':'South Korea',\n",
    "                   'United States of America':'US',\n",
    "                    'Russian Federation':'Russia',\n",
    "                    'United Kingdom of Great Britain and Northern Ireland':'UK',\n",
    "                    'Macedonia':'North Macedonia',\n",
    "                    'Brunei Darussalam':'Brunei',\n",
    "                    '''Lao People's Democratic Republic''':'Laos',\n",
    "                    'Syrian Arab Republic':'Syria',\n",
    "                    'Timor-Leste':'East Timor'\n",
    "                   }\n",
    "    continents = pd.read_csv('countryContinent.csv',encoding = \"ISO-8859-1\")\n",
    "    continents = continents[['country','continent']]\n",
    "    continents.rename(columns={'country':'Country_Region','continent':'Continent'},inplace=True)\n",
    "    continents.Country_Region = continents.Country_Region.apply(lambda x: x.split('(')[0].strip())\n",
    "    continents.Country_Region = continents.Country_Region.apply(lambda x: x.split(',')[0].strip())\n",
    "    continents['Country_Region'] = continents['Country_Region'].replace(to_replace = change_names)\n",
    "\n",
    "    df = pd.merge(df,continents,how='left',on = 'Country_Region')\n",
    "    df.dropna(inplace=True)\n",
    "\n",
    "    df.to_csv(\"covid19.csv\",index=False)"
   ]
  },
  {
   "cell_type": "code",
   "execution_count": 3,
   "metadata": {},
   "outputs": [],
   "source": [
    "df = pd.read_csv('covid19.csv')"
   ]
  },
  {
   "cell_type": "code",
   "execution_count": 4,
   "metadata": {},
   "outputs": [
    {
     "data": {
      "text/html": [
       "<div>\n",
       "<style scoped>\n",
       "    .dataframe tbody tr th:only-of-type {\n",
       "        vertical-align: middle;\n",
       "    }\n",
       "\n",
       "    .dataframe tbody tr th {\n",
       "        vertical-align: top;\n",
       "    }\n",
       "\n",
       "    .dataframe thead th {\n",
       "        text-align: right;\n",
       "    }\n",
       "</style>\n",
       "<table border=\"1\" class=\"dataframe\">\n",
       "  <thead>\n",
       "    <tr style=\"text-align: right;\">\n",
       "      <th></th>\n",
       "      <th>Province</th>\n",
       "      <th>Last_Update</th>\n",
       "      <th>Country_Region</th>\n",
       "      <th>Latitude</th>\n",
       "      <th>Longitude</th>\n",
       "      <th>Confirmed</th>\n",
       "      <th>Deaths</th>\n",
       "      <th>Recovered</th>\n",
       "      <th>Active</th>\n",
       "      <th>Continent</th>\n",
       "    </tr>\n",
       "  </thead>\n",
       "  <tbody>\n",
       "    <tr>\n",
       "      <th>0</th>\n",
       "      <td>China/Anhui</td>\n",
       "      <td>2020-01-22</td>\n",
       "      <td>China</td>\n",
       "      <td>31.8257</td>\n",
       "      <td>117.2264</td>\n",
       "      <td>1.0</td>\n",
       "      <td>0.0</td>\n",
       "      <td>0.0</td>\n",
       "      <td>0.0</td>\n",
       "      <td>Asia</td>\n",
       "    </tr>\n",
       "    <tr>\n",
       "      <th>1</th>\n",
       "      <td>China/Beijing</td>\n",
       "      <td>2020-01-22</td>\n",
       "      <td>China</td>\n",
       "      <td>40.1824</td>\n",
       "      <td>116.4142</td>\n",
       "      <td>14.0</td>\n",
       "      <td>0.0</td>\n",
       "      <td>0.0</td>\n",
       "      <td>0.0</td>\n",
       "      <td>Asia</td>\n",
       "    </tr>\n",
       "    <tr>\n",
       "      <th>2</th>\n",
       "      <td>China/Chongqing</td>\n",
       "      <td>2020-01-22</td>\n",
       "      <td>China</td>\n",
       "      <td>30.0572</td>\n",
       "      <td>107.8740</td>\n",
       "      <td>6.0</td>\n",
       "      <td>0.0</td>\n",
       "      <td>0.0</td>\n",
       "      <td>0.0</td>\n",
       "      <td>Asia</td>\n",
       "    </tr>\n",
       "    <tr>\n",
       "      <th>3</th>\n",
       "      <td>China/Fujian</td>\n",
       "      <td>2020-01-22</td>\n",
       "      <td>China</td>\n",
       "      <td>26.0789</td>\n",
       "      <td>117.9874</td>\n",
       "      <td>1.0</td>\n",
       "      <td>0.0</td>\n",
       "      <td>0.0</td>\n",
       "      <td>0.0</td>\n",
       "      <td>Asia</td>\n",
       "    </tr>\n",
       "    <tr>\n",
       "      <th>4</th>\n",
       "      <td>China/Gansu</td>\n",
       "      <td>2020-01-22</td>\n",
       "      <td>China</td>\n",
       "      <td>37.8099</td>\n",
       "      <td>103.8343</td>\n",
       "      <td>0.0</td>\n",
       "      <td>0.0</td>\n",
       "      <td>0.0</td>\n",
       "      <td>0.0</td>\n",
       "      <td>Asia</td>\n",
       "    </tr>\n",
       "  </tbody>\n",
       "</table>\n",
       "</div>"
      ],
      "text/plain": [
       "          Province Last_Update Country_Region  Latitude  Longitude  Confirmed  \\\n",
       "0      China/Anhui  2020-01-22          China   31.8257   117.2264        1.0   \n",
       "1    China/Beijing  2020-01-22          China   40.1824   116.4142       14.0   \n",
       "2  China/Chongqing  2020-01-22          China   30.0572   107.8740        6.0   \n",
       "3     China/Fujian  2020-01-22          China   26.0789   117.9874        1.0   \n",
       "4      China/Gansu  2020-01-22          China   37.8099   103.8343        0.0   \n",
       "\n",
       "   Deaths  Recovered  Active Continent  \n",
       "0     0.0        0.0     0.0      Asia  \n",
       "1     0.0        0.0     0.0      Asia  \n",
       "2     0.0        0.0     0.0      Asia  \n",
       "3     0.0        0.0     0.0      Asia  \n",
       "4     0.0        0.0     0.0      Asia  "
      ]
     },
     "execution_count": 4,
     "metadata": {},
     "output_type": "execute_result"
    }
   ],
   "source": [
    "df.head()"
   ]
  },
  {
   "cell_type": "code",
   "execution_count": 5,
   "metadata": {},
   "outputs": [
    {
     "name": "stdout",
     "output_type": "stream",
     "text": [
      "<class 'pandas.core.frame.DataFrame'>\n",
      "RangeIndex: 24632 entries, 0 to 24631\n",
      "Data columns (total 10 columns):\n",
      "Province          24632 non-null object\n",
      "Last_Update       24632 non-null object\n",
      "Country_Region    24632 non-null object\n",
      "Latitude          24632 non-null float64\n",
      "Longitude         24632 non-null float64\n",
      "Confirmed         24632 non-null float64\n",
      "Deaths            24632 non-null float64\n",
      "Recovered         24632 non-null float64\n",
      "Active            24632 non-null float64\n",
      "Continent         24632 non-null object\n",
      "dtypes: float64(6), object(4)\n",
      "memory usage: 1.9+ MB\n"
     ]
    }
   ],
   "source": [
    "df.info()"
   ]
  },
  {
   "cell_type": "code",
   "execution_count": 6,
   "metadata": {},
   "outputs": [
    {
     "data": {
      "text/plain": [
       "Index(['Province', 'Last_Update', 'Country_Region', 'Latitude', 'Longitude',\n",
       "       'Confirmed', 'Deaths', 'Recovered', 'Active', 'Continent'],\n",
       "      dtype='object')"
      ]
     },
     "execution_count": 6,
     "metadata": {},
     "output_type": "execute_result"
    }
   ],
   "source": [
    "df.columns"
   ]
  },
  {
   "cell_type": "markdown",
   "metadata": {},
   "source": [
    "### What is the structure of your dataset?\n",
    "\n",
    "> The dataset has 24632 observations with 10 features.\n",
    "\n",
    "> - the features are :'Province', 'Last_Update', 'Country_Region', 'Latitude', 'Longitude', 'Confirmed', 'Deaths', 'Recovered', 'Active'. \n",
    "> - four features 'Province', 'Last_Update', 'Country_Region' and 'Continent' are in string datatype and,\n",
    "> - the others in numerical datatypes.\n",
    "\n",
    "### What is/are the main feature(s) of interest in your dataset?\n",
    "\n",
    "> Our main features of interest are: 'Confirmed', 'Deaths'.\n",
    "\n",
    "### What features in the dataset do you think will help support your investigation into your feature(s) of interest?\n",
    "\n",
    "> All other features will help support our investigation into our features of interest."
   ]
  },
  {
   "cell_type": "markdown",
   "metadata": {},
   "source": [
    "## Univariate Exploration\n",
    "\n",
    "> In this section, investigate distributions of individual variables. If\n",
    "you see unusual points or outliers, take a deeper look to clean things up\n",
    "and prepare yourself to look at relationships between variables."
   ]
  },
  {
   "cell_type": "code",
   "execution_count": 7,
   "metadata": {},
   "outputs": [
    {
     "data": {
      "text/plain": [
       "<matplotlib.axes._subplots.AxesSubplot at 0x7f7ff75f0160>"
      ]
     },
     "execution_count": 7,
     "metadata": {},
     "output_type": "execute_result"
    },
    {
     "data": {
      "image/png": "[encoded data removed]",
      "text/plain": [
       "<Figure size 432x288 with 1 Axes>"
      ]
     },
     "metadata": {},
     "output_type": "display_data"
    }
   ],
   "source": [
    "global_df = df.groupby('Last_Update')['Confirmed'].sum().reset_index()\n",
    "sb.lineplot(data=global_df,x='Last_Update',y='Confirmed')"
   ]
  },
  {
   "cell_type": "code",
   "execution_count": 12,
   "metadata": {},
   "outputs": [
    {
     "ename": "TypeError",
     "evalue": "cannot compare a dtyped [float64] array with a scalar of type [bool]",
     "output_type": "error",
     "traceback": [
      "\u001b[0;31m---------------------------------------------------------------------------\u001b[0m",
      "\u001b[0;31mTypeError\u001b[0m                                 Traceback (most recent call last)",
      "\u001b[0;32m~/anaconda3/lib/python3.6/site-packages/pandas/core/ops.py\u001b[0m in \u001b[0;36mna_op\u001b[0;34m(x, y)\u001b[0m\n\u001b[1;32m   1273\u001b[0m         \u001b[0;32mtry\u001b[0m\u001b[0;34m:\u001b[0m\u001b[0;34m\u001b[0m\u001b[0;34m\u001b[0m\u001b[0m\n\u001b[0;32m-> 1274\u001b[0;31m             \u001b[0mresult\u001b[0m \u001b[0;34m=\u001b[0m \u001b[0mop\u001b[0m\u001b[0;34m(\u001b[0m\u001b[0mx\u001b[0m\u001b[0;34m,\u001b[0m \u001b[0my\u001b[0m\u001b[0;34m)\u001b[0m\u001b[0;34m\u001b[0m\u001b[0;34m\u001b[0m\u001b[0m\n\u001b[0m\u001b[1;32m   1275\u001b[0m         \u001b[0;32mexcept\u001b[0m \u001b[0mTypeError\u001b[0m\u001b[0;34m:\u001b[0m\u001b[0;34m\u001b[0m\u001b[0;34m\u001b[0m\u001b[0m\n",
      "\u001b[0;32m~/anaconda3/lib/python3.6/site-packages/pandas/core/ops.py\u001b[0m in \u001b[0;36mrand_\u001b[0;34m(left, right)\u001b[0m\n\u001b[1;32m    145\u001b[0m \u001b[0;32mdef\u001b[0m \u001b[0mrand_\u001b[0m\u001b[0;34m(\u001b[0m\u001b[0mleft\u001b[0m\u001b[0;34m,\u001b[0m \u001b[0mright\u001b[0m\u001b[0;34m)\u001b[0m\u001b[0;34m:\u001b[0m\u001b[0;34m\u001b[0m\u001b[0;34m\u001b[0m\u001b[0m\n\u001b[0;32m--> 146\u001b[0;31m     \u001b[0;32mreturn\u001b[0m \u001b[0moperator\u001b[0m\u001b[0;34m.\u001b[0m\u001b[0mand_\u001b[0m\u001b[0;34m(\u001b[0m\u001b[0mright\u001b[0m\u001b[0;34m,\u001b[0m \u001b[0mleft\u001b[0m\u001b[0;34m)\u001b[0m\u001b[0;34m\u001b[0m\u001b[0;34m\u001b[0m\u001b[0m\n\u001b[0m\u001b[1;32m    147\u001b[0m \u001b[0;34m\u001b[0m\u001b[0m\n",
      "\u001b[0;31mTypeError\u001b[0m: ufunc 'bitwise_and' not supported for the input types, and the inputs could not be safely coerced to any supported types according to the casting rule ''safe''",
      "\nDuring handling of the above exception, another exception occurred:\n",
      "\u001b[0;31mValueError\u001b[0m                                Traceback (most recent call last)",
      "\u001b[0;32m~/anaconda3/lib/python3.6/site-packages/pandas/core/ops.py\u001b[0m in \u001b[0;36mna_op\u001b[0;34m(x, y)\u001b[0m\n\u001b[1;32m   1290\u001b[0m                 \u001b[0;32mtry\u001b[0m\u001b[0;34m:\u001b[0m\u001b[0;34m\u001b[0m\u001b[0;34m\u001b[0m\u001b[0m\n\u001b[0;32m-> 1291\u001b[0;31m                     \u001b[0mresult\u001b[0m \u001b[0;34m=\u001b[0m \u001b[0mlibops\u001b[0m\u001b[0;34m.\u001b[0m\u001b[0mscalar_binop\u001b[0m\u001b[0;34m(\u001b[0m\u001b[0mx\u001b[0m\u001b[0;34m,\u001b[0m \u001b[0my\u001b[0m\u001b[0;34m,\u001b[0m \u001b[0mop\u001b[0m\u001b[0;34m)\u001b[0m\u001b[0;34m\u001b[0m\u001b[0;34m\u001b[0m\u001b[0m\n\u001b[0m\u001b[1;32m   1292\u001b[0m                 \u001b[0;32mexcept\u001b[0m\u001b[0;34m:\u001b[0m\u001b[0;34m\u001b[0m\u001b[0;34m\u001b[0m\u001b[0m\n",
      "\u001b[0;32mpandas/_libs/ops.pyx\u001b[0m in \u001b[0;36mpandas._libs.ops.scalar_binop\u001b[0;34m()\u001b[0m\n",
      "\u001b[0;31mValueError\u001b[0m: Buffer dtype mismatch, expected 'Python object' but got 'double'",
      "\nDuring handling of the above exception, another exception occurred:\n",
      "\u001b[0;31mTypeError\u001b[0m                                 Traceback (most recent call last)",
      "\u001b[0;32m<ipython-input-12-8b1a5917bc6f>\u001b[0m in \u001b[0;36m<module>\u001b[0;34m()\u001b[0m\n\u001b[0;32m----> 1\u001b[0;31m \u001b[0mglobal_df\u001b[0m\u001b[0;34m[\u001b[0m\u001b[0mglobal_df\u001b[0m\u001b[0;34m.\u001b[0m\u001b[0mConfirmed\u001b[0m\u001b[0;34m>\u001b[0m\u001b[0;36m50000\u001b[0m \u001b[0;34m&\u001b[0m \u001b[0mglobal_df\u001b[0m\u001b[0;34m.\u001b[0m\u001b[0mConfirmed\u001b[0m\u001b[0;34m<\u001b[0m\u001b[0;36m100000\u001b[0m\u001b[0;34m]\u001b[0m\u001b[0;34m\u001b[0m\u001b[0;34m\u001b[0m\u001b[0m\n\u001b[0m",
      "\u001b[0;32m~/anaconda3/lib/python3.6/site-packages/pandas/core/ops.py\u001b[0m in \u001b[0;36mwrapper\u001b[0;34m(self, other)\u001b[0m\n\u001b[1;32m   1328\u001b[0m                       is_integer_dtype(np.asarray(other)) else fill_bool)\n\u001b[1;32m   1329\u001b[0m \u001b[0;34m\u001b[0m\u001b[0m\n\u001b[0;32m-> 1330\u001b[0;31m             \u001b[0mres_values\u001b[0m \u001b[0;34m=\u001b[0m \u001b[0mna_op\u001b[0m\u001b[0;34m(\u001b[0m\u001b[0mself\u001b[0m\u001b[0;34m.\u001b[0m\u001b[0mvalues\u001b[0m\u001b[0;34m,\u001b[0m \u001b[0mother\u001b[0m\u001b[0;34m)\u001b[0m\u001b[0;34m\u001b[0m\u001b[0;34m\u001b[0m\u001b[0m\n\u001b[0m\u001b[1;32m   1331\u001b[0m             \u001b[0munfilled\u001b[0m \u001b[0;34m=\u001b[0m \u001b[0mself\u001b[0m\u001b[0;34m.\u001b[0m\u001b[0m_constructor\u001b[0m\u001b[0;34m(\u001b[0m\u001b[0mres_values\u001b[0m\u001b[0;34m,\u001b[0m \u001b[0mindex\u001b[0m\u001b[0;34m=\u001b[0m\u001b[0mself\u001b[0m\u001b[0;34m.\u001b[0m\u001b[0mindex\u001b[0m\u001b[0;34m)\u001b[0m\u001b[0;34m\u001b[0m\u001b[0;34m\u001b[0m\u001b[0m\n\u001b[1;32m   1332\u001b[0m             \u001b[0;32mreturn\u001b[0m \u001b[0mfiller\u001b[0m\u001b[0;34m(\u001b[0m\u001b[0munfilled\u001b[0m\u001b[0;34m)\u001b[0m\u001b[0;34m.\u001b[0m\u001b[0m__finalize__\u001b[0m\u001b[0;34m(\u001b[0m\u001b[0mself\u001b[0m\u001b[0;34m)\u001b[0m\u001b[0;34m\u001b[0m\u001b[0;34m\u001b[0m\u001b[0m\n",
      "\u001b[0;32m~/anaconda3/lib/python3.6/site-packages/pandas/core/ops.py\u001b[0m in \u001b[0;36mna_op\u001b[0;34m(x, y)\u001b[0m\n\u001b[1;32m   1294\u001b[0m                                     \u001b[0;34m\"with a scalar of type [{typ}]\"\u001b[0m\u001b[0;34m\u001b[0m\u001b[0;34m\u001b[0m\u001b[0m\n\u001b[1;32m   1295\u001b[0m                                     .format(dtype=x.dtype,\n\u001b[0;32m-> 1296\u001b[0;31m                                             typ=type(y).__name__))\n\u001b[0m\u001b[1;32m   1297\u001b[0m \u001b[0;34m\u001b[0m\u001b[0m\n\u001b[1;32m   1298\u001b[0m         \u001b[0;32mreturn\u001b[0m \u001b[0mresult\u001b[0m\u001b[0;34m\u001b[0m\u001b[0;34m\u001b[0m\u001b[0m\n",
      "\u001b[0;31mTypeError\u001b[0m: cannot compare a dtyped [float64] array with a scalar of type [bool]"
     ]
    }
   ],
   "source": [
    "global_df[global_df.Confirmed>50000 & global_df.Confirmed<100000]"
   ]
  },
  {
   "cell_type": "markdown",
   "metadata": {},
   "source": [
    "> Make sure that, after every plot or related series of plots, that you\n",
    "include a Markdown cell with comments about what you observed, and what\n",
    "you plan on investigating next."
   ]
  },
  {
   "cell_type": "code",
   "execution_count": null,
   "metadata": {},
   "outputs": [],
   "source": []
  },
  {
   "cell_type": "markdown",
   "metadata": {},
   "source": [
    "### Discuss the distribution(s) of your variable(s) of interest. Were there any unusual points? Did you need to perform any transformations?\n",
    "\n",
    "> Your answer here!\n",
    "\n",
    "### Of the features you investigated, were there any unusual distributions? Did you perform any operations on the data to tidy, adjust, or change the form of the data? If so, why did you do this?\n",
    "\n",
    "> Your answer here!"
   ]
  },
  {
   "cell_type": "markdown",
   "metadata": {},
   "source": [
    "## Bivariate Exploration\n",
    "\n",
    "> In this section, investigate relationships between pairs of variables in your\n",
    "data. Make sure the variables that you cover here have been introduced in some\n",
    "fashion in the previous section (univariate exploration)."
   ]
  },
  {
   "cell_type": "code",
   "execution_count": null,
   "metadata": {},
   "outputs": [],
   "source": []
  },
  {
   "cell_type": "markdown",
   "metadata": {},
   "source": [
    "### Talk about some of the relationships you observed in this part of the investigation. How did the feature(s) of interest vary with other features in the dataset?\n",
    "\n",
    "> Your answer here!\n",
    "\n",
    "### Did you observe any interesting relationships between the other features (not the main feature(s) of interest)?\n",
    "\n",
    "> Your answer here!"
   ]
  },
  {
   "cell_type": "markdown",
   "metadata": {},
   "source": [
    "## Multivariate Exploration\n",
    "\n",
    "> Create plots of three or more variables to investigate your data even\n",
    "further. Make sure that your investigations are justified, and follow from\n",
    "your work in the previous sections."
   ]
  },
  {
   "cell_type": "code",
   "execution_count": null,
   "metadata": {},
   "outputs": [],
   "source": []
  },
  {
   "cell_type": "markdown",
   "metadata": {},
   "source": [
    "### Talk about some of the relationships you observed in this part of the investigation. Were there features that strengthened each other in terms of looking at your feature(s) of interest?\n",
    "\n",
    "> Your answer here!\n",
    "\n",
    "### Were there any interesting or surprising interactions between features?\n",
    "\n",
    "> Your answer here!"
   ]
  },
  {
   "cell_type": "markdown",
   "metadata": {},
   "source": [
    "> At the end of your report, make sure that you export the notebook as an\n",
    "html file from the `File > Download as... > HTML` menu. Make sure you keep\n",
    "track of where the exported file goes, so you can put it in the same folder\n",
    "as this notebook for project submission. Also, make sure you remove all of\n",
    "the quote-formatted guide notes like this one before you finish your report!"
   ]
  },
  {
   "cell_type": "code",
   "execution_count": null,
   "metadata": {},
   "outputs": [],
   "source": []
  }
 ],
 "metadata": {
  "hide_input": false,
  "kernelspec": {
   "display_name": "Python 3",
   "language": "python",
   "name": "python3"
  },
  "language_info": {
   "codemirror_mode": {
    "name": "ipython",
    "version": 3
   },
   "file_extension": ".py",
   "mimetype": "text/x-python",
   "name": "python",
   "nbconvert_exporter": "python",
   "pygments_lexer": "ipython3",
   "version": "3.6.10"
  }
 },
 "nbformat": 4,
 "nbformat_minor": 2
}
