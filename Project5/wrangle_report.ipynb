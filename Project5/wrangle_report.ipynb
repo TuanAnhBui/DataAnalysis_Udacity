{
 "cells": [
  {
   "cell_type": "markdown",
   "metadata": {},
   "source": [
    "# WRANGLE REPORT: WE RATE DOGS PROJECT\n"
   ]
  },
  {
   "cell_type": "markdown",
   "metadata": {},
   "source": [
    "## Overview\n",
    "\n",
    "This project aims to conduct useful information about dogs. Some questions that we are interested in finding the answers are:\n",
    "\n",
    "1. Which stage of the dogs is the most preferred?\n",
    "2. Which predicted dog'breed have highest rating?\n",
    "3. Which is the most common name?\n",
    "4. Which breed has features that can be predicted with highest confidence?\n",
    "\n",
    "To answer these questions, data is the most important and it will be gathered, assessed and cleaned before doing any analysis and visualization. This report will describe the gather, assess and clean processes."
   ]
  },
  {
   "cell_type": "markdown",
   "metadata": {},
   "source": [
    "## Gather\n",
    "\n",
    "Data is gathered from three sources:"
   ]
  },
  {
   "cell_type": "markdown",
   "metadata": {},
   "source": [
    "#### 1. The WeRateDogs Twitter archive: `twitter_archive_enhanced.csv`  \n",
    "This dataset is downloaded manually from the link\n",
    "\n",
    "https://d17h27t6h515a5.cloudfront.net/topher/2017/August/59a4e958_twitter-archive-enhanced/twitter-archive-enhanced.csv\n",
    "\n",
    "and loaded to the `twee_arx` table."
   ]
  },
  {
   "cell_type": "markdown",
   "metadata": {},
   "source": [
    "#### 2. The tweet image predictions: `image_predictions.tsv`\n",
    "\n",
    "This dataset is downloaded programmatically using the `request` library from the link\n",
    "\n",
    "https://d17h27t6h515a5.cloudfront.net/topher/2017/August/599fd2ad_image-predictions/image-predictions.tsv\n",
    "\n",
    "and loaded to `image_pred` table"
   ]
  },
  {
   "cell_type": "markdown",
   "metadata": {},
   "source": [
    "#### 3.  WeRateDogs Twitter: `tweet_json.txt`\n",
    "\n",
    "This dataset is downloaded from WeRateDogs Twitter using Twitter API and `tweepy` library as follows:\n",
    "\n",
    "1. Use *tweet_id* in `twee_arx` table. For each *tweet_id* using `api.get_status` to pull out all information related to the status.\n",
    "2. Wrtie the JSON data of the status to `tweet_json.txt`, each tweet in one line.\n",
    "3. Handle the exceptions, usually because the tweet had been deleted.\n",
    "4. After finish downloading all tweets' JSON data, we load `tweet_json.txt` line by line to `twee_data` table"
   ]
  },
  {
   "cell_type": "markdown",
   "metadata": {},
   "source": [
    "## Assess"
   ]
  },
  {
   "cell_type": "markdown",
   "metadata": {},
   "source": [
    "By using `pandas` built-in functions, we have the following finds:\n",
    "\n",
    "#### Quality\n",
    "##### *`twee_data`* table\n",
    "- Missing records (2330 instead of 2356)\n",
    "\n",
    "##### *`twee_arx`* table\n",
    "- Missing data in columns `in_reply_to_status_id`, `in_reply_to_user_id`, `retweeted_status_id`, `retweeted_status_user_id`, `retweeted_status_timestamp`, `expanded_urls`\n",
    "- `timestamp` should be in Datetime datatype not string\n",
    "- `retweeted_status_timestamp` should be in Datetime datatype not string\n",
    "\n",
    "- Errors in `rating_numerator` and `rating_denominator` \n",
    "\n",
    "- Errors in `name`: such, a, not, one, my, his, this, unacceptable, .... They are all in lower case.\n",
    "- stage `doggo` contains values None and doggo. They should be `0` for not doggo and `1` for being a doggo.\n",
    "- Missing a lot of data in stage variable (doggo, floofer, pupper, puppo) <span style=\"color:blue\">(can't clean)</span>\n",
    "\n",
    "- Unnecessary columns `source`, `timestamp`, `expanded_urls`\n",
    "\n",
    "##### *`image_pred`* table\n",
    "- Missing records (2075 instead of 2356)\n",
    "- Dog's breeds are lower case and sometime upper case.\n",
    "\n",
    "#### Tidiness\n",
    "\n",
    "- One varible in four columns in `twee_arx` table (`doggo`,`floofer`,`pupper`,`puppo`)\n",
    "- Columns `retweet_count` and `favorite_count` should also be part of the `twee_arx` table\n",
    "- column `text` in `twee_arx` duplicated in `twee_data` table\n",
    "- `text` column in `twee_data` table should be split into `name`, `rating_numerator` and `rating_denominator`\n",
    "- `twee_data` and `twee_arx` contain retweet record. These record should be remove because they are not part of our analysis."
   ]
  },
  {
   "cell_type": "markdown",
   "metadata": {},
   "source": [
    "## Clean"
   ]
  },
  {
   "cell_type": "markdown",
   "metadata": {},
   "source": [
    "### Missing data\n",
    "\n",
    "1. We merge the tables in order to get a new table that containing the common records in all tables.\n",
    "2. Some missing data due to the poorly represented values, we reform these values to get complete data.\n",
    "\n",
    "### Unnecessary columns\n",
    "\n",
    "We remove some unnecessary columns."
   ]
  },
  {
   "cell_type": "markdown",
   "metadata": {},
   "source": [
    "### Tidiness\n",
    "\n",
    "1. Create column contains information of the four doggo,floofer,pupper,puppo\n",
    "2. Merge the retweet_count and favorite_count columns to the twee_arx table, joining on tweet_id\n",
    "3. Merge the p1 to p3_dog columns to the twee_arx table, joining on tweet_id\n",
    "4. Remove the tweets which are retweets from other status or reply to others\n"
   ]
  },
  {
   "cell_type": "markdown",
   "metadata": {},
   "source": [
    "### Quality\n",
    "\n",
    "1. Correct the name of the dogs\n",
    "2. Fix the datatype of some columns\n",
    "3. Correct the rating\n",
    "4. Correct the dog's breeds"
   ]
  },
  {
   "cell_type": "markdown",
   "metadata": {},
   "source": [
    "## Store\n",
    "\n",
    "The final cleaned dataset `twitter_archive` is store to a file named `twitter_archive_master.csv`."
   ]
  }
 ],
 "metadata": {
  "kernelspec": {
   "display_name": "Python 3",
   "language": "python",
   "name": "python3"
  },
  "language_info": {
   "codemirror_mode": {
    "name": "ipython",
    "version": 3
   },
   "file_extension": ".py",
   "mimetype": "text/x-python",
   "name": "python",
   "nbconvert_exporter": "python",
   "pygments_lexer": "ipython3",
   "version": "3.6.10"
  }
 },
 "nbformat": 4,
 "nbformat_minor": 2
}
